{
 "cells": [
  {
   "cell_type": "markdown",
   "id": "cc440bd9-e22a-4280-bcb4-e3da752b222e",
   "metadata": {},
   "source": [
    "#### **ideas & problems**\n",
    "- add \"verbose\" option\n",
    "- change the \"create_texts\" function  \n",
    "  - to avoid re-runs\n",
    "  - to get metadata about the sections\n",
    "- make analysis of the full corpus\n",
    "- find a way to remove meaningless abreviations like \"(kbs)\"\n",
    "  - maybe check if words are in \"ubuntu_eng-words-huge\"\n",
    "- play with LDA's parameters\n",
    "- use Tf–idf to remove least meaningfull words\n",
    "  \n",
    "#### **INFOS**\n",
    "- vect -> contains the count_vectorizer model parameters, including **the n-gram's vocabulary**\n",
    "- vects -> contains the document-term matrix itself\n",
    "- model -> contains the results of the LDA algorithm, including:\n",
    "  - document-topic matrix\n",
    "  - topic-word matrix"
   ]
  },
  {
   "cell_type": "code",
   "execution_count": 1,
   "id": "4a69f8cd-fa3a-4ae7-a22c-08788d453c64",
   "metadata": {},
   "outputs": [
    {
     "name": "stderr",
     "output_type": "stream",
     "text": [
      "[nltk_data] Downloading package stopwords to\n",
      "[nltk_data]     C:\\Users\\tales\\AppData\\Roaming\\nltk_data...\n",
      "[nltk_data]   Package stopwords is already up-to-date!\n",
      "[nltk_data] Downloading package punkt to\n",
      "[nltk_data]     C:\\Users\\tales\\AppData\\Roaming\\nltk_data...\n",
      "[nltk_data]   Package punkt is already up-to-date!\n"
     ]
    }
   ],
   "source": [
    "import functions_test as ft"
   ]
  },
  {
   "cell_type": "code",
   "execution_count": 2,
   "id": "0b6c6a2a-c699-4702-b582-e801ab07ead1",
   "metadata": {},
   "outputs": [],
   "source": [
    "import numpy as np"
   ]
  },
  {
   "cell_type": "code",
   "execution_count": 3,
   "id": "6c2ad0db-f679-42af-986f-210d6f16902c",
   "metadata": {},
   "outputs": [],
   "source": [
    "import matplotlib.pyplot as plt"
   ]
  },
  {
   "cell_type": "code",
   "execution_count": 4,
   "id": "0354469e-cdea-4bd5-b595-c467230154dd",
   "metadata": {},
   "outputs": [
    {
     "name": "stdout",
     "output_type": "stream",
     "text": [
      "9882\n",
      "\n",
      "9882\n"
     ]
    },
    {
     "name": "stdin",
     "output_type": "stream",
     "text": [
      "Database already has 2175 phrases, do you want to retry query? Y-n n\n"
     ]
    },
    {
     "name": "stdout",
     "output_type": "stream",
     "text": [
      "\n"
     ]
    }
   ],
   "source": [
    "glob_paths_ex = [\"./pdf/*/\"]\n",
    "files = ft.list_xmls(glob_paths_ex)\n",
    "test_text = ft.create_texts(files)\n",
    "test_phrases = ft.search_texts(test_text,{\"artificial intelligence\", \"machine learning\", \"m.l.\",\"a.i.\"},{\"abstract\",\"text\"})"
   ]
  },
  {
   "cell_type": "code",
   "execution_count": 5,
   "id": "ced01143-3d29-4b3b-bec1-1f85e67cd3c6",
   "metadata": {},
   "outputs": [
    {
     "name": "stdout",
     "output_type": "stream",
     "text": [
      "2093-161\r"
     ]
    },
    {
     "name": "stderr",
     "output_type": "stream",
     "text": [
      "INFO:lda:n_documents: 2175\n",
      "INFO:lda:vocab_size: 5484\n",
      "INFO:lda:n_words: 37976\n",
      "INFO:lda:n_topics: 40\n",
      "INFO:lda:n_iter: 2500\n"
     ]
    },
    {
     "name": "stdout",
     "output_type": "stream",
     "text": [
      "2174-108\r"
     ]
    },
    {
     "name": "stderr",
     "output_type": "stream",
     "text": [
      "INFO:lda:<0> log likelihood: -504757\n",
      "INFO:lda:<10> log likelihood: -324127\n",
      "INFO:lda:<20> log likelihood: -313132\n",
      "INFO:lda:<30> log likelihood: -308718\n",
      "INFO:lda:<40> log likelihood: -306308\n",
      "INFO:lda:<50> log likelihood: -304713\n",
      "INFO:lda:<60> log likelihood: -303521\n",
      "INFO:lda:<70> log likelihood: -302753\n",
      "INFO:lda:<80> log likelihood: -302039\n",
      "INFO:lda:<90> log likelihood: -301478\n",
      "INFO:lda:<100> log likelihood: -301340\n",
      "INFO:lda:<110> log likelihood: -301062\n",
      "INFO:lda:<120> log likelihood: -300595\n",
      "INFO:lda:<130> log likelihood: -300356\n",
      "INFO:lda:<140> log likelihood: -300142\n",
      "INFO:lda:<150> log likelihood: -299450\n",
      "INFO:lda:<160> log likelihood: -300000\n",
      "INFO:lda:<170> log likelihood: -300062\n",
      "INFO:lda:<180> log likelihood: -299511\n",
      "INFO:lda:<190> log likelihood: -299887\n",
      "INFO:lda:<200> log likelihood: -299447\n",
      "INFO:lda:<210> log likelihood: -299353\n",
      "INFO:lda:<220> log likelihood: -299256\n",
      "INFO:lda:<230> log likelihood: -299434\n",
      "INFO:lda:<240> log likelihood: -299045\n",
      "INFO:lda:<250> log likelihood: -299012\n",
      "INFO:lda:<260> log likelihood: -299014\n",
      "INFO:lda:<270> log likelihood: -298951\n",
      "INFO:lda:<280> log likelihood: -299033\n",
      "INFO:lda:<290> log likelihood: -298971\n",
      "INFO:lda:<300> log likelihood: -299075\n",
      "INFO:lda:<310> log likelihood: -298302\n",
      "INFO:lda:<320> log likelihood: -299189\n",
      "INFO:lda:<330> log likelihood: -298463\n",
      "INFO:lda:<340> log likelihood: -298871\n",
      "INFO:lda:<350> log likelihood: -298132\n",
      "INFO:lda:<360> log likelihood: -298301\n",
      "INFO:lda:<370> log likelihood: -298360\n",
      "INFO:lda:<380> log likelihood: -298347\n",
      "INFO:lda:<390> log likelihood: -298416\n",
      "INFO:lda:<400> log likelihood: -297835\n",
      "INFO:lda:<410> log likelihood: -298525\n",
      "INFO:lda:<420> log likelihood: -298556\n",
      "INFO:lda:<430> log likelihood: -298037\n",
      "INFO:lda:<440> log likelihood: -297760\n",
      "INFO:lda:<450> log likelihood: -297356\n",
      "INFO:lda:<460> log likelihood: -298126\n",
      "INFO:lda:<470> log likelihood: -297563\n",
      "INFO:lda:<480> log likelihood: -297916\n",
      "INFO:lda:<490> log likelihood: -297329\n",
      "INFO:lda:<500> log likelihood: -297231\n",
      "INFO:lda:<510> log likelihood: -297539\n",
      "INFO:lda:<520> log likelihood: -297868\n",
      "INFO:lda:<530> log likelihood: -297149\n",
      "INFO:lda:<540> log likelihood: -297208\n",
      "INFO:lda:<550> log likelihood: -296933\n",
      "INFO:lda:<560> log likelihood: -297658\n",
      "INFO:lda:<570> log likelihood: -297168\n",
      "INFO:lda:<580> log likelihood: -297213\n",
      "INFO:lda:<590> log likelihood: -297515\n",
      "INFO:lda:<600> log likelihood: -297467\n",
      "INFO:lda:<610> log likelihood: -296940\n",
      "INFO:lda:<620> log likelihood: -297289\n",
      "INFO:lda:<630> log likelihood: -297509\n",
      "INFO:lda:<640> log likelihood: -298188\n",
      "INFO:lda:<650> log likelihood: -297349\n",
      "INFO:lda:<660> log likelihood: -297152\n",
      "INFO:lda:<670> log likelihood: -297035\n",
      "INFO:lda:<680> log likelihood: -297129\n",
      "INFO:lda:<690> log likelihood: -297167\n",
      "INFO:lda:<700> log likelihood: -296918\n",
      "INFO:lda:<710> log likelihood: -297541\n",
      "INFO:lda:<720> log likelihood: -296944\n",
      "INFO:lda:<730> log likelihood: -297310\n",
      "INFO:lda:<740> log likelihood: -297411\n",
      "INFO:lda:<750> log likelihood: -297538\n",
      "INFO:lda:<760> log likelihood: -297124\n",
      "INFO:lda:<770> log likelihood: -297268\n",
      "INFO:lda:<780> log likelihood: -297027\n",
      "INFO:lda:<790> log likelihood: -297203\n",
      "INFO:lda:<800> log likelihood: -297322\n",
      "INFO:lda:<810> log likelihood: -297109\n",
      "INFO:lda:<820> log likelihood: -297262\n",
      "INFO:lda:<830> log likelihood: -297626\n",
      "INFO:lda:<840> log likelihood: -297778\n",
      "INFO:lda:<850> log likelihood: -297059\n",
      "INFO:lda:<860> log likelihood: -297221\n",
      "INFO:lda:<870> log likelihood: -297127\n",
      "INFO:lda:<880> log likelihood: -296890\n",
      "INFO:lda:<890> log likelihood: -296534\n",
      "INFO:lda:<900> log likelihood: -297057\n",
      "INFO:lda:<910> log likelihood: -296518\n",
      "INFO:lda:<920> log likelihood: -296834\n",
      "INFO:lda:<930> log likelihood: -297148\n",
      "INFO:lda:<940> log likelihood: -296824\n",
      "INFO:lda:<950> log likelihood: -296521\n",
      "INFO:lda:<960> log likelihood: -297122\n",
      "INFO:lda:<970> log likelihood: -297268\n",
      "INFO:lda:<980> log likelihood: -296662\n",
      "INFO:lda:<990> log likelihood: -297186\n",
      "INFO:lda:<1000> log likelihood: -296991\n",
      "INFO:lda:<1010> log likelihood: -296302\n",
      "INFO:lda:<1020> log likelihood: -296654\n",
      "INFO:lda:<1030> log likelihood: -296919\n",
      "INFO:lda:<1040> log likelihood: -296853\n",
      "INFO:lda:<1050> log likelihood: -296890\n",
      "INFO:lda:<1060> log likelihood: -297263\n",
      "INFO:lda:<1070> log likelihood: -297203\n",
      "INFO:lda:<1080> log likelihood: -297044\n",
      "INFO:lda:<1090> log likelihood: -297376\n",
      "INFO:lda:<1100> log likelihood: -296734\n",
      "INFO:lda:<1110> log likelihood: -296913\n",
      "INFO:lda:<1120> log likelihood: -297004\n",
      "INFO:lda:<1130> log likelihood: -297005\n",
      "INFO:lda:<1140> log likelihood: -296690\n",
      "INFO:lda:<1150> log likelihood: -297188\n",
      "INFO:lda:<1160> log likelihood: -297028\n",
      "INFO:lda:<1170> log likelihood: -297001\n",
      "INFO:lda:<1180> log likelihood: -296735\n",
      "INFO:lda:<1190> log likelihood: -296767\n",
      "INFO:lda:<1200> log likelihood: -296484\n",
      "INFO:lda:<1210> log likelihood: -297169\n",
      "INFO:lda:<1220> log likelihood: -296561\n",
      "INFO:lda:<1230> log likelihood: -297033\n",
      "INFO:lda:<1240> log likelihood: -296764\n",
      "INFO:lda:<1250> log likelihood: -296277\n",
      "INFO:lda:<1260> log likelihood: -296593\n",
      "INFO:lda:<1270> log likelihood: -296725\n",
      "INFO:lda:<1280> log likelihood: -296633\n",
      "INFO:lda:<1290> log likelihood: -296595\n",
      "INFO:lda:<1300> log likelihood: -296919\n",
      "INFO:lda:<1310> log likelihood: -297279\n",
      "INFO:lda:<1320> log likelihood: -296396\n",
      "INFO:lda:<1330> log likelihood: -296782\n",
      "INFO:lda:<1340> log likelihood: -297066\n",
      "INFO:lda:<1350> log likelihood: -296708\n",
      "INFO:lda:<1360> log likelihood: -296402\n",
      "INFO:lda:<1370> log likelihood: -296655\n",
      "INFO:lda:<1380> log likelihood: -296479\n",
      "INFO:lda:<1390> log likelihood: -296831\n",
      "INFO:lda:<1400> log likelihood: -297041\n",
      "INFO:lda:<1410> log likelihood: -296903\n",
      "INFO:lda:<1420> log likelihood: -297004\n",
      "INFO:lda:<1430> log likelihood: -296976\n",
      "INFO:lda:<1440> log likelihood: -296704\n",
      "INFO:lda:<1450> log likelihood: -296938\n",
      "INFO:lda:<1460> log likelihood: -296437\n",
      "INFO:lda:<1470> log likelihood: -296610\n",
      "INFO:lda:<1480> log likelihood: -296482\n",
      "INFO:lda:<1490> log likelihood: -296586\n",
      "INFO:lda:<1500> log likelihood: -296317\n",
      "INFO:lda:<1510> log likelihood: -296787\n",
      "INFO:lda:<1520> log likelihood: -296403\n",
      "INFO:lda:<1530> log likelihood: -296692\n",
      "INFO:lda:<1540> log likelihood: -296665\n",
      "INFO:lda:<1550> log likelihood: -296692\n",
      "INFO:lda:<1560> log likelihood: -296458\n",
      "INFO:lda:<1570> log likelihood: -296852\n",
      "INFO:lda:<1580> log likelihood: -296479\n",
      "INFO:lda:<1590> log likelihood: -296867\n",
      "INFO:lda:<1600> log likelihood: -296695\n",
      "INFO:lda:<1610> log likelihood: -296879\n",
      "INFO:lda:<1620> log likelihood: -296835\n",
      "INFO:lda:<1630> log likelihood: -295988\n",
      "INFO:lda:<1640> log likelihood: -296422\n",
      "INFO:lda:<1650> log likelihood: -296422\n",
      "INFO:lda:<1660> log likelihood: -296865\n",
      "INFO:lda:<1670> log likelihood: -296284\n",
      "INFO:lda:<1680> log likelihood: -296268\n",
      "INFO:lda:<1690> log likelihood: -296950\n",
      "INFO:lda:<1700> log likelihood: -296300\n",
      "INFO:lda:<1710> log likelihood: -296884\n",
      "INFO:lda:<1720> log likelihood: -296683\n",
      "INFO:lda:<1730> log likelihood: -296484\n",
      "INFO:lda:<1740> log likelihood: -296373\n",
      "INFO:lda:<1750> log likelihood: -296526\n",
      "INFO:lda:<1760> log likelihood: -296335\n",
      "INFO:lda:<1770> log likelihood: -296909\n",
      "INFO:lda:<1780> log likelihood: -296781\n",
      "INFO:lda:<1790> log likelihood: -296906\n",
      "INFO:lda:<1800> log likelihood: -296313\n",
      "INFO:lda:<1810> log likelihood: -296588\n",
      "INFO:lda:<1820> log likelihood: -296254\n",
      "INFO:lda:<1830> log likelihood: -296603\n",
      "INFO:lda:<1840> log likelihood: -296468\n",
      "INFO:lda:<1850> log likelihood: -296665\n",
      "INFO:lda:<1860> log likelihood: -296430\n",
      "INFO:lda:<1870> log likelihood: -296027\n",
      "INFO:lda:<1880> log likelihood: -296592\n",
      "INFO:lda:<1890> log likelihood: -296646\n",
      "INFO:lda:<1900> log likelihood: -296632\n",
      "INFO:lda:<1910> log likelihood: -296688\n",
      "INFO:lda:<1920> log likelihood: -296641\n",
      "INFO:lda:<1930> log likelihood: -296436\n",
      "INFO:lda:<1940> log likelihood: -296600\n",
      "INFO:lda:<1950> log likelihood: -296443\n",
      "INFO:lda:<1960> log likelihood: -296965\n",
      "INFO:lda:<1970> log likelihood: -296944\n",
      "INFO:lda:<1980> log likelihood: -296450\n",
      "INFO:lda:<1990> log likelihood: -297181\n",
      "INFO:lda:<2000> log likelihood: -297061\n",
      "INFO:lda:<2010> log likelihood: -297125\n",
      "INFO:lda:<2020> log likelihood: -296589\n",
      "INFO:lda:<2030> log likelihood: -296625\n",
      "INFO:lda:<2040> log likelihood: -296601\n",
      "INFO:lda:<2050> log likelihood: -297038\n",
      "INFO:lda:<2060> log likelihood: -296737\n",
      "INFO:lda:<2070> log likelihood: -296560\n",
      "INFO:lda:<2080> log likelihood: -296612\n",
      "INFO:lda:<2090> log likelihood: -296523\n",
      "INFO:lda:<2100> log likelihood: -296687\n",
      "INFO:lda:<2110> log likelihood: -296710\n",
      "INFO:lda:<2120> log likelihood: -296495\n",
      "INFO:lda:<2130> log likelihood: -296590\n",
      "INFO:lda:<2140> log likelihood: -296223\n",
      "INFO:lda:<2150> log likelihood: -296349\n",
      "INFO:lda:<2160> log likelihood: -296637\n",
      "INFO:lda:<2170> log likelihood: -296121\n",
      "INFO:lda:<2180> log likelihood: -296253\n",
      "INFO:lda:<2190> log likelihood: -296921\n",
      "INFO:lda:<2200> log likelihood: -296481\n",
      "INFO:lda:<2210> log likelihood: -296659\n",
      "INFO:lda:<2220> log likelihood: -296217\n",
      "INFO:lda:<2230> log likelihood: -296786\n",
      "INFO:lda:<2240> log likelihood: -296030\n",
      "INFO:lda:<2250> log likelihood: -296559\n",
      "INFO:lda:<2260> log likelihood: -296646\n",
      "INFO:lda:<2270> log likelihood: -296778\n",
      "INFO:lda:<2280> log likelihood: -296445\n",
      "INFO:lda:<2290> log likelihood: -296511\n",
      "INFO:lda:<2300> log likelihood: -296553\n",
      "INFO:lda:<2310> log likelihood: -296576\n",
      "INFO:lda:<2320> log likelihood: -296410\n",
      "INFO:lda:<2330> log likelihood: -296296\n",
      "INFO:lda:<2340> log likelihood: -296515\n",
      "INFO:lda:<2350> log likelihood: -296470\n",
      "INFO:lda:<2360> log likelihood: -296584\n",
      "INFO:lda:<2370> log likelihood: -296555\n",
      "INFO:lda:<2380> log likelihood: -296787\n",
      "INFO:lda:<2390> log likelihood: -296434\n",
      "INFO:lda:<2400> log likelihood: -296503\n",
      "INFO:lda:<2410> log likelihood: -296358\n",
      "INFO:lda:<2420> log likelihood: -296685\n",
      "INFO:lda:<2430> log likelihood: -296280\n",
      "INFO:lda:<2440> log likelihood: -296733\n",
      "INFO:lda:<2450> log likelihood: -296359\n",
      "INFO:lda:<2460> log likelihood: -296796\n",
      "INFO:lda:<2470> log likelihood: -296272\n",
      "INFO:lda:<2480> log likelihood: -296579\n",
      "INFO:lda:<2490> log likelihood: -296777\n",
      "INFO:lda:<2499> log likelihood: -296446\n",
      "C:\\Users\\tales\\AppData\\Local\\Programs\\Python\\Python310\\lib\\site-packages\\sklearn\\utils\\deprecation.py:87: FutureWarning: Function get_feature_names is deprecated; get_feature_names is deprecated in 1.0 and will be removed in 1.2. Please use get_feature_names_out instead.\n",
      "  warnings.warn(msg, category=FutureWarning)\n"
     ]
    }
   ],
   "source": [
    "test_clean = ft.clean_text()\n",
    "(vect,vects) = ft.create_n_gram(test_clean)\n",
    "model = ft.run_lda(vect,vects)"
   ]
  },
  {
   "cell_type": "code",
   "execution_count": 6,
   "id": "bc3d4647-7a1c-44cb-a7fe-316cd8422367",
   "metadata": {},
   "outputs": [
    {
     "name": "stdout",
     "output_type": "stream",
     "text": [
      "introduction in the field of artificial intelligence, knowledge-based systems (kbs) and behaviour-based systems (bbs) have modelled and simulated exhibitions of intelligence of different types, which we could call \"cognitive\" intelligence and \"adaptive\" intelligence, respectively.\n",
      "introduction field artificial intelligence knowledge-based systems kbs behaviour-based systems bbs modelled simulated exhibitions intelligence different types could call cognitive intelligence adaptive intelligence respectively\n"
     ]
    }
   ],
   "source": [
    "print(test_phrases[465])\n",
    "print(test_clean[465])"
   ]
  },
  {
   "cell_type": "code",
   "execution_count": null,
   "id": "37b08999-3307-42fc-ab62-09732c1cc95f",
   "metadata": {},
   "outputs": [],
   "source": [
    "plt.plot(model.loglikelihoods_)"
   ]
  },
  {
   "cell_type": "code",
   "execution_count": null,
   "id": "aa4cc2dd-ec3a-422f-bd60-6a6b7f361e6f",
   "metadata": {},
   "outputs": [],
   "source": [
    "import random\n",
    "#i = random.randint(0,1785)\n",
    "i = 712\n",
    "print(i)\n",
    "plt.plot(model.ndz_[i])\n",
    "plt.plot(model.doc_topic_[i])\n",
    "print(model.ndz_[i])"
   ]
  },
  {
   "cell_type": "code",
   "execution_count": null,
   "id": "2e1bed58-81ca-4c8c-b14a-4f7208d375ac",
   "metadata": {},
   "outputs": [],
   "source": [
    "import random\n",
    "#i = random.randint(0,1785)\n",
    "i = 1\n",
    "print(i)\n",
    "plt.plot(model.nzw_[i])\n",
    "plt.plot(model.topic_word_[i])\n",
    "print(model.nzw_[i][10:100])\n",
    "print(np.around(model.topic_word_[i][10:100],4))"
   ]
  },
  {
   "cell_type": "code",
   "execution_count": null,
   "id": "f6ba72b7-95f8-41fe-92f7-90d3cd542c0f",
   "metadata": {},
   "outputs": [],
   "source": [
    "#get topic words\n",
    "mq_z = (model.nzw_[i] > 0).sum()\n",
    "\n",
    "arroto = (-model.nzw_[i]).argsort()[:mq_z]\n",
    "len(n_words_on_topic)"
   ]
  },
  {
   "cell_type": "code",
   "execution_count": null,
   "id": "8b6b5690-cc70-4831-918d-3874ba47e5bc",
   "metadata": {},
   "outputs": [],
   "source": [
    "#lista de palavras e probabilidades de cada tópico:\n",
    "n_words_on_topic = (model.nzw_ > 0).sum(axis=1)\n",
    "top_word_indices_of_topics = [(-model.nzw_[a]).argsort()[:n_words_on_topic[a]] for a in range(len(n_words_on_topic))]\n",
    "[[(np.around(model.topic_word_,5)[i][word],(vect.get_feature_names())[word]) for word in top_word_indices]for i,top_word_indices in enumerate(top_word_indices_of_topics)]"
   ]
  },
  {
   "cell_type": "code",
   "execution_count": 6,
   "id": "b8b27d30-c5bf-4f9f-bada-a682fc4a1b30",
   "metadata": {},
   "outputs": [
    {
     "ename": "NameError",
     "evalue": "name 'model' is not defined",
     "output_type": "error",
     "traceback": [
      "\u001b[1;31m---------------------------------------------------------------------------\u001b[0m",
      "\u001b[1;31mNameError\u001b[0m                                 Traceback (most recent call last)",
      "Input \u001b[1;32mIn [6]\u001b[0m, in \u001b[0;36m<cell line: 2>\u001b[1;34m()\u001b[0m\n\u001b[0;32m      1\u001b[0m \u001b[38;5;66;03m#lista de palavras e probabilidades de cada tópico:\u001b[39;00m\n\u001b[1;32m----> 2\u001b[0m n_topics_on_document \u001b[38;5;241m=\u001b[39m (\u001b[43mmodel\u001b[49m\u001b[38;5;241m.\u001b[39mndz_ \u001b[38;5;241m>\u001b[39m \u001b[38;5;241m0\u001b[39m)\u001b[38;5;241m.\u001b[39msum(axis\u001b[38;5;241m=\u001b[39m\u001b[38;5;241m1\u001b[39m)\n\u001b[0;32m      3\u001b[0m top_topic_indices_of_documents \u001b[38;5;241m=\u001b[39m [(\u001b[38;5;241m-\u001b[39mmodel\u001b[38;5;241m.\u001b[39mndz_[a])\u001b[38;5;241m.\u001b[39margsort()[:n_topics_on_document[a]] \u001b[38;5;28;01mfor\u001b[39;00m a \u001b[38;5;129;01min\u001b[39;00m \u001b[38;5;28mrange\u001b[39m(\u001b[38;5;28mlen\u001b[39m(n_topics_on_document))]\n\u001b[0;32m      4\u001b[0m \u001b[38;5;28;01mfor\u001b[39;00m i,top_topic_indices \u001b[38;5;129;01min\u001b[39;00m \u001b[38;5;28menumerate\u001b[39m(top_topic_indices_of_documents):\n",
      "\u001b[1;31mNameError\u001b[0m: name 'model' is not defined"
     ]
    }
   ],
   "source": [
    "#lista de palavras e probabilidades de cada tópico:\n",
    "n_topics_on_document = (model.ndz_ > 0).sum(axis=1)\n",
    "top_topic_indices_of_documents = [(-model.ndz_[a]).argsort()[:n_topics_on_document[a]] for a in range(len(n_topics_on_document))]\n",
    "for i,top_topic_indices in enumerate(top_topic_indices_of_documents):\n",
    "    print([(topic,np.around(model.doc_topic_,5)[i][topic]) for topic in top_topic_indices])"
   ]
  },
  {
   "cell_type": "code",
   "execution_count": null,
   "id": "6eb1c741-6f9c-48d6-b79d-9f3b2160ce09",
   "metadata": {},
   "outputs": [],
   "source": [
    "[(model.topic_word_[i][blep],(vect.get_feature_names())[blep]) for blep in arroto]"
   ]
  },
  {
   "cell_type": "code",
   "execution_count": null,
   "id": "d5c778b6-732a-4c67-8a0b-891be711327a",
   "metadata": {},
   "outputs": [],
   "source": [
    "vect.get_feature_names()\n"
   ]
  },
  {
   "cell_type": "code",
   "execution_count": null,
   "id": "46573038-6a74-4ebf-a8a7-f036040634d0",
   "metadata": {},
   "outputs": [],
   "source": [
    "import re"
   ]
  },
  {
   "cell_type": "code",
   "execution_count": null,
   "id": "efd8e4fd-07b5-4039-bf1c-617be564af01",
   "metadata": {},
   "outputs": [],
   "source": [
    "string1 = \"ovon\"\n",
    "string2 = \"ovon de codorna\"\n",
    "print(re.search(r\"\\b\" + re.escape(string1) + r\"\\b\", string2))"
   ]
  },
  {
   "cell_type": "code",
   "execution_count": null,
   "id": "4d6f44cf-0546-488e-91be-b40a252603a8",
   "metadata": {},
   "outputs": [],
   "source": [
    "import nltk\n",
    "words = set(nltk.corpus.words.words())\n",
    "\n",
    "sent = \"Io andiamo to the beach with my amico.\"\n",
    "\" \".join(w for w in nltk.wordpunct_tokenize(sent) \\\n",
    "         if w.lower() in words or not w.isalpha())"
   ]
  },
  {
   "cell_type": "code",
   "execution_count": null,
   "id": "5c161868-b264-4e87-b81e-93d201f532b3",
   "metadata": {},
   "outputs": [],
   "source": [
    "X = vects.toarray()\n",
    "np.sum(X,axis = 0)"
   ]
  },
  {
   "cell_type": "code",
   "execution_count": null,
   "id": "01854027-42f3-4e93-8ceb-43c58e160712",
   "metadata": {},
   "outputs": [],
   "source": [
    "print(model.__dict__)\n",
    "print(dir(model))"
   ]
  },
  {
   "cell_type": "code",
   "execution_count": null,
   "id": "be2f5827-d0c0-45d4-9617-9eaed295a435",
   "metadata": {},
   "outputs": [],
   "source": [
    "from matplotlib import colors\n",
    "from matplotlib.ticker import PercentFormatter\n",
    "\n",
    "a = [len(test_phrase) for test_phrase in test_phrases]\n",
    "\n",
    "n_bins = 150\n",
    "treshold = 500\n",
    "dist1 = a\n",
    "\n",
    "b = [len(test_phrase) for test_phrase in test_phrases if (len(test_phrase) < treshold)]\n",
    "\n",
    "fig, ax = plt.subplots(figsize =(10, 6))\n",
    "\n",
    "plt.ylabel(\"nº of documents ({}% are ommited)\".format(round(((len(a)-len(b))/len(a))*100,1)))\n",
    "plt.xlabel(\"nº of characters (documents with over {} characters are ommited in this graph)\".format(treshold))\n",
    "\n",
    "# N is the count in each bin, bins is the lower-limit of the bin\n",
    "N, bins, patches = ax.hist(dist1, bins=n_bins, range=(min(a), treshold))\n",
    "\n",
    "# We'll color code by height, but you could use any scalar\n",
    "fracs = N / N.max()\n",
    "\n",
    "# we need to normalize the data to 0..1 for the full range of the colormap\n",
    "norm = colors.Normalize(fracs.min(), fracs.max())\n",
    "\n",
    "# Now, we'll loop through our objects and set the color of each accordingly\n",
    "for thisfrac, thispatch in zip(fracs, patches):\n",
    "    color = plt.cm.viridis(norm(thisfrac))\n",
    "    thispatch.set_facecolor(color)\n",
    "    \n",
    "\n"
   ]
  },
  {
   "cell_type": "code",
   "execution_count": null,
   "id": "12f88163-e6b9-409d-b520-a1703f658502",
   "metadata": {},
   "outputs": [],
   "source": []
  }
 ],
 "metadata": {
  "kernelspec": {
   "display_name": "Python 3 (ipykernel)",
   "language": "python",
   "name": "python3"
  },
  "language_info": {
   "codemirror_mode": {
    "name": "ipython",
    "version": 3
   },
   "file_extension": ".py",
   "mimetype": "text/x-python",
   "name": "python",
   "nbconvert_exporter": "python",
   "pygments_lexer": "ipython3",
   "version": "3.10.4"
  }
 },
 "nbformat": 4,
 "nbformat_minor": 5
}
