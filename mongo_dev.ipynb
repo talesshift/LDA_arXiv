{
 "cells": [
  {
   "cell_type": "code",
   "execution_count": 6,
   "id": "4a69f8cd-fa3a-4ae7-a22c-08788d453c64",
   "metadata": {},
   "outputs": [
    {
     "name": "stderr",
     "output_type": "stream",
     "text": [
      "[nltk_data] Downloading package stopwords to\n",
      "[nltk_data]     C:\\Users\\tales\\AppData\\Roaming\\nltk_data...\n",
      "[nltk_data]   Package stopwords is already up-to-date!\n",
      "[nltk_data] Downloading package punkt to\n",
      "[nltk_data]     C:\\Users\\tales\\AppData\\Roaming\\nltk_data...\n",
      "[nltk_data]   Package punkt is already up-to-date!\n"
     ]
    }
   ],
   "source": [
    "import functions_test as ft"
   ]
  },
  {
   "cell_type": "code",
   "execution_count": 8,
   "id": "a8ce9244-bdf0-4107-aab7-0a8d2e114dd7",
   "metadata": {},
   "outputs": [
    {
     "name": "stdout",
     "output_type": "stream",
     "text": [
      "9882\n",
      "\n",
      "9882\n"
     ]
    }
   ],
   "source": [
    "glob_paths_ex = [\"./pdf/*/\"]\n",
    "test_text = ft.create_texts(ft.list_xmls(glob_paths_ex))"
   ]
  },
  {
   "cell_type": "code",
   "execution_count": 9,
   "id": "ced01143-3d29-4b3b-bec1-1f85e67cd3c6",
   "metadata": {},
   "outputs": [
    {
     "data": {
      "text/plain": [
       "'C:\\\\Users\\\\tales\\\\Desktop\\\\PROJECTS\\\\PYTHON\\\\LDA_arXiv\\\\functions_test.py'"
      ]
     },
     "execution_count": 9,
     "metadata": {},
     "output_type": "execute_result"
    }
   ],
   "source": []
  },
  {
   "cell_type": "code",
   "execution_count": null,
   "id": "d5c778b6-732a-4c67-8a0b-891be711327a",
   "metadata": {},
   "outputs": [],
   "source": []
  }
 ],
 "metadata": {
  "kernelspec": {
   "display_name": "Python 3 (ipykernel)",
   "language": "python",
   "name": "python3"
  },
  "language_info": {
   "codemirror_mode": {
    "name": "ipython",
    "version": 3
   },
   "file_extension": ".py",
   "mimetype": "text/x-python",
   "name": "python",
   "nbconvert_exporter": "python",
   "pygments_lexer": "ipython3",
   "version": "3.10.4"
  }
 },
 "nbformat": 4,
 "nbformat_minor": 5
}
